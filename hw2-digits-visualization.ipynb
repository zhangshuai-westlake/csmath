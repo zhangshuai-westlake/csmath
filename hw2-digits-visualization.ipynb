{
 "cells": [
  {
   "cell_type": "markdown",
   "id": "2e629f6e",
   "metadata": {},
   "source": [
    "# Goal"
   ]
  },
  {
   "cell_type": "markdown",
   "id": "2f4252e8",
   "metadata": {},
   "source": [
    "Represent digits '3' in 2D.\n",
    "+ convert data from the [UCI Optical Recognition of Handwritten Digits Data Set](http://archive.ics.uci.edu/ml/datasets/Optical+Recognition+of+Handwritten+Digits)\n",
    "+ perform PCA over all digit '3' with 2 components\n",
    "+ plot the PCA results as below (also in page #12 of PCA)"
   ]
  },
  {
   "cell_type": "markdown",
   "id": "4898ee0b",
   "metadata": {},
   "source": [
    "## convert data and perform PCA over alll digit '3' with 2 components"
   ]
  },
  {
   "cell_type": "code",
   "execution_count": null,
   "id": "dc4ba7c6",
   "metadata": {},
   "outputs": [],
   "source": [
    "import matplotlib.pyplot as plt\n",
    "import random"
   ]
  },
  {
   "cell_type": "code",
   "execution_count": 244,
   "id": "17772cf1",
   "metadata": {
    "ExecuteTime": {
     "end_time": "2022-03-21T06:46:36.565232Z",
     "start_time": "2022-03-21T06:46:36.474366Z"
    }
   },
   "outputs": [],
   "source": [
    "def load_data(path):\n",
    "    digits, labels = [], []\n",
    "    with open(path) as fo:\n",
    "        for line in fo.readlines():\n",
    "            elems = np.array(line.split(\",\")).astype(int)\n",
    "            digit, label = elems[:-1], elems[-1]\n",
    "            digits.append(digit)\n",
    "            labels.append(label)\n",
    "    return digits, labels\n",
    "\n",
    "def filter_digits(digits, labels, num=3):\n",
    "    fdigits = []\n",
    "    for digit, label in zip(digits, labels):\n",
    "        if label == num:\n",
    "            fdigits.append(digit)\n",
    "    return np.stack(fdigits)\n",
    "\n",
    "def decompose(digits): \n",
    "    digits = digits - digits.mean(0) \n",
    "    u, d, v = np.linalg.svd(digits)\n",
    "    return u[:, :2], np.diag(d[:2]) @ v[:2, :]\n",
    "\n",
    "\n",
    "path = \"data/optdigits.tra\"\n",
    "# path = \"data/optdigits.tes\"\n",
    "digits, labels = load_data(path)\n",
    "\n",
    "threes = filter_digits(digits, labels)\n",
    "proj_coef, proj_axis = decompose(threes)\n",
    "\n",
    "sampled_idx = random.sample(range(threes.shape[0]), 25)\n",
    "sampled_threes = threes[sampled_idx]"
   ]
  },
  {
   "cell_type": "markdown",
   "id": "9ae8cb68",
   "metadata": {},
   "source": [
    "## plot the PCA results"
   ]
  },
  {
   "cell_type": "code",
   "execution_count": 287,
   "id": "595acb5a",
   "metadata": {
    "ExecuteTime": {
     "end_time": "2022-03-21T07:14:09.662164Z",
     "start_time": "2022-03-21T07:14:08.794732Z"
    }
   },
   "outputs": [
    {
     "data": {
      "image/png": "[encoded data removed]",
      "text/plain": [
       "<Figure size 432x288 with 1 Axes>"
      ]
     },
     "metadata": {
      "needs_background": "light"
     },
     "output_type": "display_data"
    },
    {
     "data": {
      "image/png": "[encoded data removed]",
      "text/plain": [
       "<Figure size 216x216 with 50 Axes>"
      ]
     },
     "metadata": {
      "needs_background": "light"
     },
     "output_type": "display_data"
    }
   ],
   "source": [
    "plt.plot(proj_coef[:, 0], proj_coef[:, 1], \".g\")\n",
    "\n",
    "plt.scatter(proj_coef[sampled_idx, 0], proj_coef[sampled_idx, 1], s=40, facecolors=\"none\", edgecolors=\"r\")\n",
    "plt.grid()\n",
    "\n",
    "from mpl_toolkits.axes_grid1 import ImageGrid\n",
    "fig = plt.figure(figsize=(3, 3))\n",
    "grid = ImageGrid(fig, 111, nrows_ncols=(5, 5))\n",
    "for ax, three in zip(grid, sampled_threes):\n",
    "    img = three.reshape((8, 8))\n",
    "#     img = (img == 0).astype(int) # binary\n",
    "    ax.imshow(img, cmap=\"gray\") \n",
    "    ax.axes.get_xaxis().set_visible(False)\n",
    "    ax.axes.get_yaxis().set_visible(False)"
   ]
  },
  {
   "cell_type": "markdown",
   "id": "d1aed51e",
   "metadata": {},
   "source": [
    "## the image of PCA components"
   ]
  },
  {
   "cell_type": "code",
   "execution_count": 286,
   "id": "f0b397fe",
   "metadata": {
    "ExecuteTime": {
     "end_time": "2022-03-21T07:13:30.760983Z",
     "start_time": "2022-03-21T07:13:30.681711Z"
    }
   },
   "outputs": [
    {
     "data": {
      "image/png": "[encoded data removed]",
      "text/plain": [
       "<Figure size 216x216 with 3 Axes>"
      ]
     },
     "metadata": {
      "needs_background": "light"
     },
     "output_type": "display_data"
    }
   ],
   "source": [
    "fig, axs = plt.subplots(1, 3, figsize=(3, 3))\n",
    "ax = axs[0]\n",
    "ax.title.set_text(\"mean\")\n",
    "ax.imshow(threes.mean(0).reshape((8, 8)), cmap=\"gray\")\n",
    "ax.get_xaxis().set_visible(False)\n",
    "ax.get_yaxis().set_visible(False)\n",
    "\n",
    "ax = axs[1]\n",
    "ax.title.set_text(\"first\")\n",
    "ax.imshow(proj_axis[0].reshape((8, 8)), cmap=\"gray\")\n",
    "ax.get_xaxis().set_visible(False)\n",
    "ax.get_yaxis().set_visible(False)\n",
    "\n",
    "ax = axs[2]\n",
    "ax.title.set_text(\"second\")\n",
    "ax.imshow(proj_axis[1].reshape((8, 8)), cmap=\"gray\")\n",
    "ax.get_xaxis().set_visible(False)\n",
    "ax.get_yaxis().set_visible(False)\n"
   ]
  }
 ],
 "metadata": {
  "kernelspec": {
   "display_name": "csmath",
   "language": "python",
   "name": "csmath"
  },
  "language_info": {
   "codemirror_mode": {
    "name": "ipython",
    "version": 3
   },
   "file_extension": ".py",
   "mimetype": "text/x-python",
   "name": "python",
   "nbconvert_exporter": "python",
   "pygments_lexer": "ipython3",
   "version": "3.8.0"
  },
  "toc": {
   "base_numbering": 1,
   "nav_menu": {},
   "number_sections": true,
   "sideBar": true,
   "skip_h1_title": false,
   "title_cell": "Table of Contents",
   "title_sidebar": "Contents",
   "toc_cell": false,
   "toc_position": {},
   "toc_section_display": true,
   "toc_window_display": false
  },
  "varInspector": {
   "cols": {
    "lenName": 16,
    "lenType": 16,
    "lenVar": 40
   },
   "kernels_config": {
    "python": {
     "delete_cmd_postfix": "",
     "delete_cmd_prefix": "del ",
     "library": "var_list.py",
     "varRefreshCmd": "print(var_dic_list())"
    },
    "r": {
     "delete_cmd_postfix": ") ",
     "delete_cmd_prefix": "rm(",
     "library": "var_list.r",
     "varRefreshCmd": "cat(var_dic_list()) "
    }
   },
   "types_to_exclude": [
    "module",
    "function",
    "builtin_function_or_method",
    "instance",
    "_Feature"
   ],
   "window_display": false
  }
 },
 "nbformat": 4,
 "nbformat_minor": 5
}
